{
 "cells": [
  {
   "cell_type": "code",
   "execution_count": null,
   "id": "41154d1a",
   "metadata": {},
   "outputs": [],
   "source": [
    "# Copyright (c) Meta Platforms, Inc. and affiliates.\n",
    "\n",
    "# This source code is licensed under the MIT license found in the\n",
    "# LICENSE file in the root directory of this source tree.\n",
    "\n",
    "import numpy as np\n",
    "import os\n",
    "import pandas as pd\n",
    "from IPython.display import Image, display, HTML, Markdown, FileLink\n",
    "from pathlib import Path"
   ]
  },
  {
   "cell_type": "markdown",
   "id": "18281422",
   "metadata": {},
   "source": [
    "# Helper functions\n",
    "\n",
    "## For Quantitative Results"
   ]
  },
  {
   "cell_type": "code",
   "execution_count": null,
   "id": "6da68628",
   "metadata": {},
   "outputs": [],
   "source": [
    "def get_experiment_df(exp_path, multirun=False, exclude=None):\n",
    "    variant_dfs = []\n",
    "    for variant_dir in os.listdir(exp_path):\n",
    "        if os.path.isfile(exp_path / variant_dir):\n",
    "            continue\n",
    "\n",
    "        # get runs inside each variant_dir \n",
    "        run_dirs = [run_dir for run_dir in os.listdir(exp_path / variant_dir)\n",
    "                if '.yaml' not in run_dir]\n",
    "        if len(run_dirs) == 0:\n",
    "            continue\n",
    "\n",
    "        # get metrics from each run\n",
    "        run_dfs = []\n",
    "        if multirun:\n",
    "            for run_dir in run_dirs:\n",
    "                run_df = pd.read_csv(exp_path / variant_dir / run_dir / 'metrics.csv')\n",
    "                if exclude is not None:\n",
    "                    run_df = run_df[~run_df['object_name'].isin([exclude])]\n",
    "                # Add run dir as another column\n",
    "                run_df['run'] = [run_dir for _ in range(len(run_df))]\n",
    "                run_dfs.append(run_df)\n",
    "        else:\n",
    "            run_df = pd.read_csv(exp_path / variant_dir / 'metrics.csv')\n",
    "            if exclude is not None:\n",
    "                run_df = run_df[~run_df['object_name'].isin([exclude])]\n",
    "            # Add run dir as another column\n",
    "            run_df['run'] = [variant_dir for _ in range(len(run_df))]\n",
    "            run_dfs.append(run_df)\n",
    "            \n",
    "        variant_df = pd.concat(run_dfs)\n",
    "        variant_dfs.append(variant_df)\n",
    "    exp_df = pd.concat(variant_dfs)\n",
    "    assert np.all(exp_df.isnull().sum() == 0) # assert no NaNs\n",
    "    return exp_df\n",
    "\n",
    "\n",
    "def get_unique_evaluation_scenes(exp_df):\n",
    "    # Get scenes\n",
    "    run_names = exp_df.run.unique()\n",
    "    evals = set()\n",
    "    for run_name in run_names:\n",
    "        eval_name = run_name.split('-')[0]\n",
    "        evals.add(eval_name)\n",
    "    return evals\n",
    "\n",
    "\n",
    "def get_htmls_mds(exp_df, evals):\n",
    "    htmls = []\n",
    "    mds = []\n",
    "    for eval_name in evals:\n",
    "        eval_df = exp_df.loc[exp_df['run'].str.contains(eval_name)]\n",
    "        eval_df = eval_df.drop('scene_idx', axis=1).groupby(['run'])\n",
    "        count = eval_df.count()['execution']\n",
    "        sub_max = count != count.max()\n",
    "        if sub_max.sum() > 0:\n",
    "            print(f\"Warning: {count.loc[sub_max].index[0]} only has {np.array(count.loc[sub_max])[0]} / {count.max()} trials\")\n",
    "        df = eval_df.mean().round(2).astype(str) + \" +/- \" + eval_df.std().round(1).astype(str)\n",
    "\n",
    "        htmls.append((eval_name, HTML(df.to_html())))\n",
    "        mds.append((eval_name, df.to_markdown()))\n",
    "    return htmls, mds\n",
    "\n",
    "    \n",
    "def get_experiment_results(exp_path, multirun=True, exclude=None):\n",
    "    exp_df = get_experiment_df(exp_path, multirun=multirun, exclude=exclude)\n",
    "    evals = get_unique_evaluation_scenes(exp_df)\n",
    "    htmls, mds = get_htmls_mds(exp_df, evals)\n",
    "    return exp_df, evals, htmls, mds\n",
    "    \n",
    "\n",
    "def print_htmls_mds(htmls, mds):\n",
    "    # Pretty print\n",
    "    for (eval_name, html) in htmls:\n",
    "        display(Markdown(f'{eval_name} evaluation'))\n",
    "        display(html)"
   ]
  },
  {
   "cell_type": "markdown",
   "id": "8da6bc6c",
   "metadata": {},
   "source": [
    "## For Qualitative Results"
   ]
  },
  {
   "cell_type": "code",
   "execution_count": null,
   "id": "d793c501",
   "metadata": {},
   "outputs": [],
   "source": [
    "def sample_gifs(eval_name, variant, exp_df, success=False, num_samples=5, seed=0, obj_type=None, multirun=False):\n",
    "    if multirun:\n",
    "        eval_df = exp_df.loc[exp_df['run'].str.contains(eval_name)]\n",
    "        variant_df = eval_df.loc[eval_df['run'].str.contains(variant)]\n",
    "    else:\n",
    "        variant_df = exp_df.loc[exp_df['run'].str.contains(variant)]\n",
    "    full_variant_name = variant_df['run'].iloc[0]\n",
    "    selection = variant_df['execution'] == success\n",
    "\n",
    "    # turn into gifs\n",
    "    success_df = variant_df.loc[selection]\n",
    "    if obj_type is not None:\n",
    "        success_df = success_df.loc[ success_df['object_name'].str.contains(obj_type)] \n",
    "    \n",
    "    paths = success_df[[\"object_name\", \"scene_idx\"]].apply(lambda x: \"_\".join([str(y) for y in x]), axis=1)\n",
    "\n",
    "    glob_pattern = f'*/{full_variant_name}' if multirun else full_variant_name\n",
    "    variant_path_list = list(exp_path.glob(glob_pattern))\n",
    "    assert len(variant_path_list) == 1\n",
    "    variant_path = variant_path_list[0]\n",
    "\n",
    "    idxs = paths.index\n",
    "    np.random.seed(seed)\n",
    "    sampled_idxs = np.random.choice(idxs, size=num_samples, replace=False)\n",
    "    ims = []\n",
    "    im_paths = []\n",
    "    for idx in sampled_idxs:\n",
    "        path = variant_path / 'gifs' / f'{paths[idx]}.gif'\n",
    "        print(variant_path / 'avis' / f'{paths[idx]}.avi')\n",
    "        im = Image(open(path,'rb').read())\n",
    "        display(im)\n",
    "        ims.append(im)\n",
    "        im_paths.append(path)\n",
    "    return ims, im_paths"
   ]
  },
  {
   "cell_type": "markdown",
   "id": "e49b157b",
   "metadata": {},
   "source": [
    "# Results "
   ]
  },
  {
   "cell_type": "markdown",
   "id": "71136a1c",
   "metadata": {},
   "source": [
    "# Experiment: per object models"
   ]
  },
  {
   "cell_type": "code",
   "execution_count": null,
   "id": "7128d7c8",
   "metadata": {},
   "outputs": [],
   "source": [
    "root_dir = Path(os.path.abspath(\"\")) / '..' / '..' / '..' / 'data' / 'pybullet_eval'\n",
    "exp_name = 'perobj_reach_grasp'\n",
    "exp_path = Path(f'{root_dir}/{exp_name}')\n",
    "exp_df, evals, htmls, mds = get_experiment_results(exp_path, multirun=False)\n",
    "print_htmls_mds(htmls, mds)"
   ]
  },
  {
   "cell_type": "code",
   "execution_count": null,
   "id": "6b74251b",
   "metadata": {},
   "outputs": [],
   "source": [
    "# Get success examples\n",
    "pd.options.display.max_colwidth = 100\n",
    "variant = 'GF_learned-perobj_deepsdf_grasp1k_obs0.1_ik_v2partial_2022-11-04_000841'\n",
    "ims, im_paths = sample_gifs('acronym', variant, exp_df, success=True, num_samples=5, multirun=False)"
   ]
  },
  {
   "cell_type": "markdown",
   "id": "fdb78b1b",
   "metadata": {},
   "source": [
    "# Experiment: intra-category models"
   ]
  },
  {
   "cell_type": "code",
   "execution_count": null,
   "id": "339ef954",
   "metadata": {},
   "outputs": [],
   "source": [
    "root_dir = Path(os.path.abspath(\"\")) / '..' / '..' / '..' / 'data' / 'pybullet_eval'\n",
    "exp_name = 'multobj_reach_grasp'\n",
    "exp_path = Path(f'{root_dir}/{exp_name}')\n",
    "exp_df, evals, htmls, mds = get_experiment_results(exp_path, multirun=False)\n",
    "print_htmls_mds(htmls, mds)"
   ]
  }
 ],
 "metadata": {
  "kernelspec": {
   "display_name": "Python 3.7.5 64-bit",
   "language": "python",
   "name": "python3"
  },
  "language_info": {
   "codemirror_mode": {
    "name": "ipython",
    "version": 3
   },
   "file_extension": ".py",
   "mimetype": "text/x-python",
   "name": "python",
   "nbconvert_exporter": "python",
   "pygments_lexer": "ipython3",
   "version": "3.7.5"
  },
  "vscode": {
   "interpreter": {
    "hash": "fd69f43f58546b570e94fd7eba7b65e6bcc7a5bbc4eab0408017d18902915d69"
   }
  }
 },
 "nbformat": 4,
 "nbformat_minor": 5
}
